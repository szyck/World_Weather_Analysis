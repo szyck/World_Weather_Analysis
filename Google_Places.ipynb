{
 "cells": [
  {
   "cell_type": "code",
   "execution_count": 2,
   "id": "126b97f6",
   "metadata": {},
   "outputs": [],
   "source": [
    "import requests\n",
    "import json\n",
    "from config import gkey"
   ]
  },
  {
   "cell_type": "code",
   "execution_count": 4,
   "id": "ea28ad6d",
   "metadata": {},
   "outputs": [],
   "source": [
    "#geocoordinates\n",
    "target_coordinates = \"43.6187102, -116.2146068\"\n",
    "target_search = \"Chinese\"\n",
    "target_radius = 8000\n",
    "target_type = \"restaurant\"\n",
    "\n",
    "#set up parameters dictionary\n",
    "\n",
    "params = {\n",
    "        \"location\": target_coordinates,\n",
    "        \"keyword\": target_search,\n",
    "        \"radius\": target_radius,\n",
    "        \"type\":target_type,\n",
    "        \"key\": gkey\n",
    "}\n",
    "#base url\n",
    "base_url = \"https://maps.googleapis.com/maps/api/place/nearbysearch/json\"\n",
    "\n",
    "#run a response using our params dictionary\n",
    "response = requests.get(base_url, params=params)"
   ]
  },
  {
   "cell_type": "code",
   "execution_count": 5,
   "id": "bed5f703",
   "metadata": {},
   "outputs": [
    {
     "ename": "NameError",
     "evalue": "name 'pprint' is not defined",
     "output_type": "error",
     "traceback": [
      "\u001b[1;31m---------------------------------------------------------------------------\u001b[0m",
      "\u001b[1;31mNameError\u001b[0m                                 Traceback (most recent call last)",
      "\u001b[1;32m~\\AppData\\Local\\Temp\\ipykernel_8832\\581745525.py\u001b[0m in \u001b[0;36m<module>\u001b[1;34m\u001b[0m\n\u001b[0;32m      3\u001b[0m \u001b[1;33m\u001b[0m\u001b[0m\n\u001b[0;32m      4\u001b[0m \u001b[1;31m# print the json (pretty)\u001b[0m\u001b[1;33m\u001b[0m\u001b[1;33m\u001b[0m\u001b[1;33m\u001b[0m\u001b[0m\n\u001b[1;32m----> 5\u001b[1;33m \u001b[0mpprint\u001b[0m\u001b[1;33m(\u001b[0m\u001b[0mplaces_data\u001b[0m\u001b[1;33m)\u001b[0m\u001b[1;33m\u001b[0m\u001b[1;33m\u001b[0m\u001b[0m\n\u001b[0m",
      "\u001b[1;31mNameError\u001b[0m: name 'pprint' is not defined"
     ]
    }
   ],
   "source": [
    "# convert response to json\n",
    "places_data = response.json()\n",
    "\n",
    "# print the json (pretty)\n",
    "print(json.dumps())"
   ]
  },
  {
   "cell_type": "code",
   "execution_count": null,
   "id": "99fe9b64",
   "metadata": {},
   "outputs": [],
   "source": []
  }
 ],
 "metadata": {
  "kernelspec": {
   "display_name": "Python 3 (ipykernel)",
   "language": "python",
   "name": "python3"
  },
  "language_info": {
   "codemirror_mode": {
    "name": "ipython",
    "version": 3
   },
   "file_extension": ".py",
   "mimetype": "text/x-python",
   "name": "python",
   "nbconvert_exporter": "python",
   "pygments_lexer": "ipython3",
   "version": "3.7.13"
  }
 },
 "nbformat": 4,
 "nbformat_minor": 5
}
